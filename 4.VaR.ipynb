{
 "cells": [
  {
   "attachments": {},
   "cell_type": "markdown",
   "metadata": {},
   "source": [
    "# Value at Risk (VaR)"
   ]
  },
  {
   "cell_type": "code",
   "execution_count": 3,
   "metadata": {},
   "outputs": [],
   "source": [
    "import numpy as np\n",
    "import yfinance as yf\n",
    "import pandas as pd\n",
    "import datetime\n",
    "from scipy.stats import norm"
   ]
  },
  {
   "cell_type": "code",
   "execution_count": 4,
   "metadata": {},
   "outputs": [],
   "source": [
    "\n",
    "\n",
    "def download_data(stock, start_date, end_date):\n",
    "    data = {}\n",
    "\n",
    "    # Download stock data using yfinance\n",
    "    ticker = yf.download(stock, start_date, end_date)\n",
    "\n",
    "    # Extract the 'Adj Close' prices and store them in the data dictionary\n",
    "    data[stock] = ticker['Adj Close']\n",
    "\n",
    "    # Create a DataFrame from the data dictionary\n",
    "    return pd.DataFrame(data)\n"
   ]
  },
  {
   "cell_type": "code",
   "execution_count": 5,
   "metadata": {},
   "outputs": [],
   "source": [
    "# c = confidence level\n",
    "\n",
    "#This is how we calculate the value at risk tomorrow (n=1)\n",
    "def calculate_VaR(position, c, mu, sigma):\n",
    "    # Calculate the z-score corresponding to the confidence level (1 - c)\n",
    "    v = norm.ppf(1 - c)\n",
    "\n",
    "    # Calculate the VaR using the position, mean (mu), and standard deviation (sigma)\n",
    "    var = position * (mu - sigma * v)\n",
    "\n",
    "    return var\n",
    "\n",
    "# This is how we calculate VaR for any number of days in the future\n",
    "def calculate_VaR_n(position, c, mu, sigma, n):\n",
    "    # Calculate the z-score corresponding to the confidence level (1 - c)\n",
    "    v = norm.ppf(1 - c)\n",
    "\n",
    "    # Calculate the VaR using the position, mean (mu), standard deviation (sigma), and number of days (n)\n",
    "    var = position * (mu * n - sigma * np.sqrt(n) * v)\n",
    "\n",
    "    return var\n"
   ]
  },
  {
   "cell_type": "code",
   "execution_count": 6,
   "metadata": {},
   "outputs": [
    {
     "name": "stdout",
     "output_type": "stream",
     "text": [
      "[*********************100%***********************]  1 of 1 completed\n",
      "                    C   Returns\n",
      "Date                           \n",
      "2014-01-03  43.411266  0.021388\n",
      "2014-01-06  43.744560  0.007648\n",
      "2014-01-07  44.045353  0.006853\n",
      "2014-01-08  44.557514  0.011561\n",
      "2014-01-09  44.874577  0.007091\n",
      "...               ...       ...\n",
      "2017-12-22  63.072460 -0.004362\n",
      "2017-12-26  62.479244 -0.009450\n",
      "2017-12-27  62.571152  0.001470\n",
      "2017-12-28  62.729912  0.002534\n",
      "2017-12-29  62.170120 -0.008964\n",
      "\n",
      "[1006 rows x 2 columns]\n"
     ]
    }
   ],
   "source": [
    "# Define the download_data function (as mentioned earlier)\n",
    "\n",
    "start = datetime.datetime(2014, 1, 1)\n",
    "end = datetime.datetime(2018, 1, 1)\n",
    "\n",
    "# Download stock data for the symbol 'C' from start to end dates\n",
    "stock_data = download_data('C', start, end)\n",
    "\n",
    "# Calculate the logarithmic returns using the 'Adj Close' prices\n",
    "stock_data['Returns'] = np.log(stock_data['C'] / stock_data['C'].shift(1))\n",
    "\n",
    "# Remove the first row with NaN values\n",
    "stock_data = stock_data[1:]\n",
    "\n",
    "# Print the resulting stock data\n",
    "print(stock_data)"
   ]
  },
  {
   "cell_type": "code",
   "execution_count": 7,
   "metadata": {},
   "outputs": [
    {
     "name": "stdout",
     "output_type": "stream",
     "text": [
      "Value at Risk is: $82897.97\n"
     ]
    }
   ],
   "source": [
    "# Define the calculate_VaR_n function (as mentioned earlier)\n",
    "\n",
    "# This is the investment (stocks or whatever)\n",
    "S = 1e6\n",
    "# Confidence level - this time it is 95%\n",
    "c = 0.95\n",
    "\n",
    "n = 10\n",
    "\n",
    "# We assume that daily returns are normally distributed\n",
    "mu = np.mean(stock_data['Returns'])\n",
    "sigma = np.std(stock_data['Returns'])\n",
    "\n",
    "# Calculate and print the Value at Risk (VaR)\n",
    "var = calculate_VaR_n(S, c, mu, sigma, n)\n",
    "print(f'Value at Risk is: ${var.round(2)}')"
   ]
  },
  {
   "attachments": {},
   "cell_type": "markdown",
   "metadata": {},
   "source": [
    "## VaR with Monte-Carlo Simulations"
   ]
  },
  {
   "cell_type": "code",
   "execution_count": 8,
   "metadata": {},
   "outputs": [],
   "source": [
    "import numpy as np\n",
    "import yfinance as yf\n",
    "import pandas as pd\n",
    "import datetime"
   ]
  },
  {
   "cell_type": "code",
   "execution_count": 9,
   "metadata": {},
   "outputs": [],
   "source": [
    "def download_data(stock, start_date, end_date):\n",
    "    data = {}\n",
    "\n",
    "    # Download stock data using yfinance\n",
    "    ticker = yf.download(stock, start_date, end_date)\n",
    "\n",
    "    # Extract the 'Adj Close' prices and store them in the data dictionary\n",
    "    data[stock] = ticker['Adj Close']\n",
    "\n",
    "    # Create a DataFrame from the data dictionary\n",
    "    return pd.DataFrame(data)"
   ]
  },
  {
   "cell_type": "code",
   "execution_count": 10,
   "metadata": {},
   "outputs": [],
   "source": [
    "class ValueAtRiskMonteCarlo:\n",
    "    def __init__(self, S, mu, sigma, c, n, iterations):\n",
    "        # This is the value of the initial investment at t = 0 (1000 dollars)\n",
    "        self.S = S\n",
    "        self.mu = mu\n",
    "        self.sigma = sigma\n",
    "        self.c = c\n",
    "        self.n = n\n",
    "        self.iterations = iterations\n",
    "\n",
    "    def simulation(self):\n",
    "        # Generate random numbers from a standard normal distribution\n",
    "        rand = np.random.normal(0, 1, [1, self.iterations])\n",
    "\n",
    "        # Equation for the S(t) stock price\n",
    "        # The random walk of our initial investment\n",
    "        stock_price = self.S * np.exp(self.n * (self.mu - 0.5 * self.sigma ** 2) +\n",
    "                                      self.sigma * np.sqrt(self.n) * rand)\n",
    "        \n",
    "        # Sort the stock prices to determine the percentile\n",
    "        stock_price = np.sort(stock_price)\n",
    "        \n",
    "        # Calculate the VaR based on the specified confidence level\n",
    "        percentile = np.percentile(stock_price, (1 - self.c) * 100)\n",
    "\n",
    "        return self.S - percentile"
   ]
  },
  {
   "cell_type": "code",
   "execution_count": 11,
   "metadata": {},
   "outputs": [
    {
     "name": "stdout",
     "output_type": "stream",
     "text": [
      "[*********************100%***********************]  1 of 1 completed\n",
      "The Value at Risk using a Monte Carlo simulation for Citi is: $37083.03\n"
     ]
    }
   ],
   "source": [
    "\n",
    "# Define the download_data and ValueAtRiskMonteCarlo classes (as mentioned earlier)\n",
    "\n",
    "S = 1e6\n",
    "c = 0.99\n",
    "n = 1\n",
    "iterations = 100000\n",
    "\n",
    "start_date = datetime.datetime(2014, 1, 1)\n",
    "end_date = datetime.datetime(2017, 1, 1)\n",
    "\n",
    "# Download stock data for the symbol 'C' from start_date to end_date\n",
    "citi = download_data('C', start_date, end_date)\n",
    "\n",
    "# Calculate the logarithmic returns using the 'Adj Close' prices\n",
    "citi['Returns'] = np.log(citi['C'] / citi['C'].shift(1))\n",
    "\n",
    "# Remove the first row with NaN values\n",
    "citi = citi[1:]\n",
    "\n",
    "# Calculate the mean and standard deviation of the returns\n",
    "mu = np.mean(citi['Returns'])\n",
    "sigma = np.std(citi['Returns'])\n",
    "\n",
    "# Create an instance of the ValueAtRiskMonteCarlo class\n",
    "model = ValueAtRiskMonteCarlo(S, mu, sigma, c, n, iterations)\n",
    "\n",
    "# Perform the Monte Carlo simulation and print the result\n",
    "var = model.simulation()\n",
    "print(f'The Value at Risk using a Monte Carlo simulation for Citi is: ${var.round(2)}')"
   ]
  }
 ],
 "metadata": {
  "kernelspec": {
   "display_name": "base",
   "language": "python",
   "name": "python3"
  },
  "language_info": {
   "codemirror_mode": {
    "name": "ipython",
    "version": 3
   },
   "file_extension": ".py",
   "mimetype": "text/x-python",
   "name": "python",
   "nbconvert_exporter": "python",
   "pygments_lexer": "ipython3",
   "version": "3.10.9"
  },
  "orig_nbformat": 4
 },
 "nbformat": 4,
 "nbformat_minor": 2
}
